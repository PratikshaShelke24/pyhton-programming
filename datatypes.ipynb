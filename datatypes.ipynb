{
  "nbformat": 4,
  "nbformat_minor": 0,
  "metadata": {
    "colab": {
      "provenance": [],
      "authorship_tag": "ABX9TyMhegWP9l0E8o3tdllaeV56",
      "include_colab_link": true
    },
    "kernelspec": {
      "name": "python3",
      "display_name": "Python 3"
    },
    "language_info": {
      "name": "python"
    }
  },
  "cells": [
    {
      "cell_type": "markdown",
      "metadata": {
        "id": "view-in-github",
        "colab_type": "text"
      },
      "source": [
        "<a href=\"https://colab.research.google.com/github/PratikshaShelke24/pyhton-programming/blob/main/datatypes.ipynb\" target=\"_parent\"><img src=\"https://colab.research.google.com/assets/colab-badge.svg\" alt=\"Open In Colab\"/></a>"
      ]
    },
    {
      "cell_type": "code",
      "execution_count": 1,
      "metadata": {
        "id": "OtXQOfdhn9ov"
      },
      "outputs": [],
      "source": [
        "#numeric datatypes"
      ]
    },
    {
      "cell_type": "code",
      "source": [
        "a=10;\n",
        "b=20;\n",
        "c=\"pratiksha\";\n",
        "print(a)\n",
        "print(type(a))\n",
        "print(b)\n",
        "print(type(b))\n",
        "print(c)\n",
        "print(type(c))\n",
        "print(\"sum\",a+b)\n",
        "\n"
      ],
      "metadata": {
        "id": "umSaLbhcn-LH",
        "outputId": "dc4169b6-1866-402c-f19e-82483ce4cabf",
        "colab": {
          "base_uri": "https://localhost:8080/"
        }
      },
      "execution_count": 7,
      "outputs": [
        {
          "output_type": "stream",
          "name": "stdout",
          "text": [
            "10\n",
            "<class 'int'>\n",
            "20\n",
            "<class 'int'>\n",
            "pratiksha\n",
            "<class 'str'>\n",
            "sum 30\n"
          ]
        }
      ]
    },
    {
      "cell_type": "code",
      "source": [
        "#sequcence datatypes"
      ],
      "metadata": {
        "id": "QuPbiNLbn-OY"
      },
      "execution_count": null,
      "outputs": []
    },
    {
      "cell_type": "code",
      "source": [
        "list=[1,2,3,4,5,6,7]\n",
        "print(list)\n",
        "print(type(list))"
      ],
      "metadata": {
        "id": "77nUu5zkn-RP",
        "outputId": "c4f03bac-846c-4221-a560-0a99e9ac7053",
        "colab": {
          "base_uri": "https://localhost:8080/"
        }
      },
      "execution_count": 9,
      "outputs": [
        {
          "output_type": "stream",
          "name": "stdout",
          "text": [
            "[1, 2, 3, 4, 5, 6, 7]\n",
            "<class 'list'>\n"
          ]
        }
      ]
    },
    {
      "cell_type": "code",
      "source": [
        "tuple=(1,2,3,4,5,6,7,8,9)\n",
        "print(set)\n",
        "print(type(set))"
      ],
      "metadata": {
        "id": "zn5DcMHCn-UV",
        "outputId": "251acda9-dd2c-4c06-d51b-6946caefd4d2",
        "colab": {
          "base_uri": "https://localhost:8080/"
        }
      },
      "execution_count": 12,
      "outputs": [
        {
          "output_type": "stream",
          "name": "stdout",
          "text": [
            "(1, 2, 3, 4, 5, 6, 7, 8, 9)\n",
            "<class 'tuple'>\n"
          ]
        }
      ]
    },
    {
      "cell_type": "code",
      "source": [
        "#mapping datatypes"
      ],
      "metadata": {
        "id": "BhC0QT2qn-YC"
      },
      "execution_count": null,
      "outputs": []
    },
    {
      "cell_type": "code",
      "source": [
        "dict1={\"name\":\"pratiksha\",\"age\":24}\n",
        "print(dict1)\n",
        "print(type(dict1))"
      ],
      "metadata": {
        "id": "-M_84V5on-bD",
        "outputId": "e88d20d3-6a31-4fe6-dc34-8c277d57f5ae",
        "colab": {
          "base_uri": "https://localhost:8080/"
        }
      },
      "execution_count": 16,
      "outputs": [
        {
          "output_type": "stream",
          "name": "stdout",
          "text": [
            "{'name': 'pratiksha', 'age': 24}\n",
            "<class 'dict'>\n"
          ]
        }
      ]
    },
    {
      "cell_type": "code",
      "source": [
        "#set\n",
        "set=(1,2,3,4,5)\n",
        "print(set)\n",
        "print(type(set))"
      ],
      "metadata": {
        "id": "WYyD-Ewtn-d7",
        "outputId": "5d285e4b-d200-4743-edd0-aa6defff52b2",
        "colab": {
          "base_uri": "https://localhost:8080/"
        }
      },
      "execution_count": 18,
      "outputs": [
        {
          "output_type": "stream",
          "name": "stdout",
          "text": [
            "(1, 2, 3, 4, 5)\n",
            "<class 'tuple'>\n"
          ]
        }
      ]
    },
    {
      "cell_type": "code",
      "source": [],
      "metadata": {
        "id": "Spuo_Mthn-gp"
      },
      "execution_count": null,
      "outputs": []
    }
  ]
}